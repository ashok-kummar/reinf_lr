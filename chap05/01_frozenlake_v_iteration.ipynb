{
 "cells": [
  {
   "cell_type": "code",
   "execution_count": 12,
   "metadata": {},
   "outputs": [],
   "source": [
    "import gym\n",
    "import collections\n",
    "from tensorboardX import SummaryWriter"
   ]
  },
  {
   "cell_type": "code",
   "execution_count": 13,
   "metadata": {},
   "outputs": [],
   "source": [
    "ENV_NAME = \"FrozenLake-v0\"\n",
    "#ENV_NAME = \"FrozenLake8x8-v0\"      # uncomment for larger version\n",
    "GAMMA = 0.9\n",
    "TEST_EPISODES = 20"
   ]
  },
  {
   "cell_type": "code",
   "execution_count": 14,
   "metadata": {},
   "outputs": [],
   "source": [
    "class Agent:\n",
    "    \n",
    "    \"\"\"\n",
    "    Reward Table: rewards --> {[src-St, Act, tgt-St]: Rwd}\n",
    "        >> key: [src-St, Act, tgt-St]\n",
    "        >> value: immediate Rwd\n",
    "\n",
    "    Transitition Table: transits --> {[St, Act]: {[tgt-St]: count}}\n",
    "        >> key: [St, Act]\n",
    "        >> value: key: [tgt-St]\n",
    "                  value: count of tgt-St reached by combination [St, Act]\n",
    "    \n",
    "    Value Table: vlaues --> {St: value}\n",
    "\n",
    "    Algorithm:\n",
    "        >> play 100 random steps\n",
    "        >> populate reward and transitition tables\n",
    "        >> perform value iteration loop for all states --> update value table\n",
    "        >> play again to check the value table\n",
    "        >> during test both reward and transitition table are updated\n",
    "        \n",
    "    \"\"\"\n",
    "\n",
    "    def __init__(self):\n",
    "        self.env = gym.make(ENV_NAME)\n",
    "        self.state = self.env.reset()\n",
    "        self.rewards = collections.defaultdict(float)\n",
    "        self.transits = collections.defaultdict(collections.Counter)\n",
    "        self.values = collections.defaultdict(float)\n",
    "\n",
    "    def play_n_random_steps(self, count):\n",
    "        action = self.env.action_space.sample()\n",
    "        new_state, reward, is_done, _ = self.env.step(action)\n",
    "        self.rewards[(self.state, action, new_state)] = reward\n",
    "        self.transits[(self.state, action)][new_state] += 1\n",
    "        self.state = self.env.reset() if is_done else new_state\n",
    "\n",
    "    def calc_action_value(self, state, action):\n",
    "        target_counts = self.transits[(state, action)]\n",
    "        total = sum(target_counts.values())\n",
    "        action_value = 0\n",
    "        for target_state, count in target_counts.items():\n",
    "            reward = self.rewards[(state, action, target_state)]\n",
    "            val = reward + (GAMMA * self.values[target_state])\n",
    "            action_value += (count / total) * val \n",
    "        return action_value\n",
    "    \n",
    "    def select_action(self, state):\n",
    "        best_action, best_value = None, None\n",
    "        for action in range(self.env.action_space.n):\n",
    "            action_value = self.calc_action_value(state, action)\n",
    "            if best_value is None or best_value < action_value:\n",
    "                best_action = action\n",
    "                best_value = action_value\n",
    "        return best_action\n",
    "\n",
    "    def play_episode(self, env):\n",
    "        total_reward = 0.0\n",
    "        state = env.reset()\n",
    "        while True:\n",
    "            action = self.select_action(state)\n",
    "            new_state, reward, is_done, _ = env.step(action)\n",
    "            self.rewards[(state, action, new_state)] = reward\n",
    "            self.transits[(state, action)][new_state] += 1\n",
    "            total_reward += reward\n",
    "            if is_done:\n",
    "                break\n",
    "            state = new_state\n",
    "        return total_reward\n",
    "\n",
    "    def value_iteration(self):\n",
    "        for state in range(self.env.observation_space.n):\n",
    "            state_values = [\n",
    "                self.calc_action_value(state, action) for action in range(self.env.action_space.n)\n",
    "            ]\n",
    "            self.values[state] = max(state_values)"
   ]
  },
  {
   "cell_type": "code",
   "execution_count": 15,
   "metadata": {},
   "outputs": [
    {
     "output_type": "stream",
     "name": "stdout",
     "text": "Best reward updated 0.000 -> 0.150\nBest reward updated 0.150 -> 0.300\nBest reward updated 0.300 -> 0.350\nBest reward updated 0.350 -> 0.450\nBest reward updated 0.450 -> 0.650\nBest reward updated 0.650 -> 0.700\nBest reward updated 0.700 -> 0.800\nBest reward updated 0.800 -> 0.850\nSolved in 608 iterations!\n"
    }
   ],
   "source": [
    "if __name__ == \"__main__\":\n",
    "    test_env = gym.make(ENV_NAME)\n",
    "    agent = Agent()\n",
    "    writer = SummaryWriter(comment=\"-v-iteration\")\n",
    "\n",
    "    iter_no = 0\n",
    "    best_reward = 0.0\n",
    "    while True:\n",
    "        iter_no += 1\n",
    "        agent.play_n_random_steps(100)\n",
    "        agent.value_iteration()\n",
    "\n",
    "        reward = 0.0\n",
    "        for _ in range(TEST_EPISODES):\n",
    "            reward += agent.play_episode(test_env)\n",
    "        reward /= TEST_EPISODES\n",
    "        writer.add_scalar(\"reward\", reward, iter_no)\n",
    "        if reward > best_reward:\n",
    "            print(\"Best reward updated %.3f -> %.3f\" % (best_reward, reward))\n",
    "            best_reward = reward\n",
    "        if reward > 0.80:\n",
    "            print(\"Solved in %d iterations!\" % iter_no)\n",
    "            break\n",
    "    writer.close()"
   ]
  },
  {
   "cell_type": "code",
   "execution_count": null,
   "metadata": {},
   "outputs": [],
   "source": []
  }
 ],
 "metadata": {
  "language_info": {
   "codemirror_mode": {
    "name": "ipython",
    "version": 3
   },
   "file_extension": ".py",
   "mimetype": "text/x-python",
   "name": "python",
   "nbconvert_exporter": "python",
   "pygments_lexer": "ipython3",
   "version": "3.7.7-final"
  },
  "orig_nbformat": 2,
  "kernelspec": {
   "name": "python3",
   "display_name": "Python 3"
  }
 },
 "nbformat": 4,
 "nbformat_minor": 2
}