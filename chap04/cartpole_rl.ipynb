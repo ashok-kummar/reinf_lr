{
 "cells": [
  {
   "cell_type": "code",
   "execution_count": 17,
   "metadata": {},
   "outputs": [],
   "source": [
    "import torch\n",
    "import torch.nn as nn\n",
    "import torch.optim as optim\n",
    "\n",
    "import gym\n",
    "import numpy as np\n",
    "from tensorboardX import SummaryWriter\n",
    "from collections import namedtuple"
   ]
  },
  {
   "cell_type": "code",
   "execution_count": 18,
   "metadata": {},
   "outputs": [],
   "source": [
    "HIDDEN_SIZE = 128\n",
    "BATCH_SIZE = 16\n",
    "PERCENTILE = 70"
   ]
  },
  {
   "cell_type": "code",
   "execution_count": 19,
   "metadata": {},
   "outputs": [],
   "source": [
    "class SkyNet(nn.Module):\n",
    "    \n",
    "    def __init__(self, obs_size, hidden_size, n_act):\n",
    "        super(SkyNet, self).__init__()\n",
    "\n",
    "        self.net = nn.Sequential(\n",
    "            nn.Linear(obs_size, hidden_size),\n",
    "            nn.ReLU(),\n",
    "            nn.Linear(hidden_size, n_act)\n",
    "        )\n",
    "\n",
    "    def forward(self, x):\n",
    "        return self.net(x)"
   ]
  },
  {
   "cell_type": "code",
   "execution_count": 20,
   "metadata": {},
   "outputs": [],
   "source": [
    "Episode = namedtuple('Episode', field_names=['reward', 'steps'])\n",
    "EpisodeStep = namedtuple('EpisodeStep', field_names=['observation', 'action'])"
   ]
  },
  {
   "cell_type": "code",
   "execution_count": 21,
   "metadata": {},
   "outputs": [],
   "source": [
    "def iterate_batches(env, net, batch_size):\n",
    "    batch = []\n",
    "    episode_reward = 0.0\n",
    "    episode_steps = []\n",
    "    obs = env.reset()\n",
    "    sm = nn.Softmax(dim=1)\n",
    "\n",
    "    while True:\n",
    "        obs_v = torch.Tensor([obs])\n",
    "        act_prob_v = sm(net(obs_v))\n",
    "        act_prob = act_prob_v.data.numpy()[0]\n",
    "\n",
    "        action = np.random.choice(len(act_prob), p=act_prob)\n",
    "        next_obs, reward, is_done, _ = env.step(action)\n",
    "\n",
    "        episode_reward += reward\n",
    "        step = EpisodeStep(observation=obs, action=action)\n",
    "        episode_steps.append(step)\n",
    "\n",
    "        if is_done:\n",
    "            e = Episode(reward=episode_reward, steps=episode_steps)\n",
    "            batch.append(e)\n",
    "            episode_reward = 0.0\n",
    "            episode_steps = []\n",
    "            next_obs = env.reset()\n",
    "            if len(batch) == batch_size:\n",
    "                yield batch\n",
    "                batch = []\n",
    "        obs = next_obs"
   ]
  },
  {
   "cell_type": "code",
   "execution_count": 22,
   "metadata": {},
   "outputs": [],
   "source": [
    "def filter_batch(batch, percentile):\n",
    "    rewards = list(map(lambda s: s.reward, batch))\n",
    "    reward_bound = np.percentile(rewards, percentile)\n",
    "    reward_mean = float(np.mean(rewards))\n",
    "\n",
    "    train_obs = []\n",
    "    train_act = []\n",
    "\n",
    "    # batch: rwd & steps\n",
    "    # steps: obs & act\n",
    "\n",
    "\n",
    "    for reward, steps in batch:\n",
    "        if reward < reward_bound:\n",
    "            continue;\n",
    "        train_obs.extend(map(lambda s: s.observation, steps))\n",
    "        train_act.extend(map(lambda s: s.action, steps))\n",
    "\n",
    "    train_obs_v = torch.FloatTensor(train_obs)\n",
    "    train_act_v = torch.LongTensor(train_act)\n",
    "\n",
    "    return train_obs_v, train_act_v, reward_bound, reward_mean    "
   ]
  },
  {
   "cell_type": "code",
   "execution_count": 23,
   "metadata": {},
   "outputs": [
    {
     "output_type": "stream",
     "name": "stdout",
     "text": "0: loss=0.697, reward_mean=20.9, rw_bound=25.5\n1: loss=0.696, reward_mean=19.4, rw_bound=21.5\n2: loss=0.680, reward_mean=23.6, rw_bound=24.0\n3: loss=0.679, reward_mean=22.4, rw_bound=26.5\n4: loss=0.667, reward_mean=31.1, rw_bound=42.5\n5: loss=0.660, reward_mean=22.9, rw_bound=23.5\n6: loss=0.655, reward_mean=41.1, rw_bound=51.0\n7: loss=0.632, reward_mean=36.3, rw_bound=43.5\n8: loss=0.621, reward_mean=40.5, rw_bound=49.0\n9: loss=0.625, reward_mean=40.4, rw_bound=46.0\n10: loss=0.631, reward_mean=44.6, rw_bound=48.5\n11: loss=0.603, reward_mean=36.1, rw_bound=47.0\n12: loss=0.645, reward_mean=40.1, rw_bound=47.0\n13: loss=0.599, reward_mean=51.0, rw_bound=56.0\n14: loss=0.582, reward_mean=49.1, rw_bound=58.0\n15: loss=0.596, reward_mean=53.2, rw_bound=68.0\n16: loss=0.571, reward_mean=64.9, rw_bound=77.0\n17: loss=0.584, reward_mean=60.8, rw_bound=61.0\n18: loss=0.579, reward_mean=73.6, rw_bound=94.5\n19: loss=0.569, reward_mean=81.4, rw_bound=97.0\n20: loss=0.578, reward_mean=69.6, rw_bound=82.5\n21: loss=0.587, reward_mean=63.8, rw_bound=84.5\n22: loss=0.578, reward_mean=71.9, rw_bound=69.0\n23: loss=0.550, reward_mean=77.4, rw_bound=91.0\n24: loss=0.558, reward_mean=55.7, rw_bound=61.5\n25: loss=0.542, reward_mean=70.2, rw_bound=71.0\n26: loss=0.566, reward_mean=87.4, rw_bound=110.5\n27: loss=0.556, reward_mean=103.5, rw_bound=109.0\n28: loss=0.534, reward_mean=112.4, rw_bound=144.0\n29: loss=0.522, reward_mean=132.8, rw_bound=162.5\n30: loss=0.534, reward_mean=120.2, rw_bound=150.0\n31: loss=0.547, reward_mean=105.4, rw_bound=122.5\n32: loss=0.545, reward_mean=100.1, rw_bound=120.5\n33: loss=0.526, reward_mean=99.8, rw_bound=118.0\n34: loss=0.508, reward_mean=87.1, rw_bound=108.0\n35: loss=0.525, reward_mean=107.4, rw_bound=126.0\n36: loss=0.542, reward_mean=122.9, rw_bound=151.5\n37: loss=0.525, reward_mean=150.5, rw_bound=175.0\n38: loss=0.519, reward_mean=146.5, rw_bound=180.5\n39: loss=0.530, reward_mean=186.0, rw_bound=200.0\n40: loss=0.499, reward_mean=172.2, rw_bound=200.0\n41: loss=0.513, reward_mean=178.7, rw_bound=200.0\n42: loss=0.502, reward_mean=183.1, rw_bound=200.0\n43: loss=0.512, reward_mean=192.7, rw_bound=200.0\n44: loss=0.509, reward_mean=186.9, rw_bound=200.0\n45: loss=0.505, reward_mean=191.3, rw_bound=200.0\n46: loss=0.503, reward_mean=198.8, rw_bound=200.0\n47: loss=0.507, reward_mean=188.4, rw_bound=200.0\n48: loss=0.498, reward_mean=197.7, rw_bound=200.0\n49: loss=0.502, reward_mean=196.9, rw_bound=200.0\n50: loss=0.505, reward_mean=200.0, rw_bound=200.0\nSolved!\n"
    }
   ],
   "source": [
    "if __name__ == \"__main__\":\n",
    "    env = gym.make(\"CartPole-v0\")\n",
    "    env = gym.wrappers.Monitor(env, directory=\"mon\", force=True)\n",
    "    obs_size = env.observation_space.shape[0]\n",
    "    n_actions = env.action_space.n\n",
    "\n",
    "    net = SkyNet(obs_size, HIDDEN_SIZE, n_actions)\n",
    "    objective = nn.CrossEntropyLoss()\n",
    "    optimizer = optim.Adam(params=net.parameters(), lr=0.01)\n",
    "    writer = SummaryWriter(comment=\"-cartpole\")\n",
    "\n",
    "    for iter_no, batch in enumerate(iterate_batches(env, net, BATCH_SIZE)):\n",
    "        obs_v, acts_v, reward_b, reward_m = filter_batch(batch, PERCENTILE)\n",
    "        optimizer.zero_grad()\n",
    "        action_scores_v = net(obs_v)\n",
    "        loss_v = objective(action_scores_v, acts_v)\n",
    "        loss_v.backward()\n",
    "        optimizer.step()\n",
    "        print(\"%d: loss=%.3f, reward_mean=%.1f, rw_bound=%.1f\" % (\n",
    "            iter_no, loss_v.item(), reward_m, reward_b))\n",
    "        writer.add_scalar(\"loss\", loss_v.item(), iter_no)\n",
    "        writer.add_scalar(\"reward_bound\", reward_b, iter_no)\n",
    "        writer.add_scalar(\"reward_mean\", reward_m, iter_no)\n",
    "\n",
    "        if reward_m > 199:\n",
    "            print(\"Solved!\")\n",
    "            break\n",
    "    writer.close()"
   ]
  }
 ],
 "metadata": {
  "language_info": {
   "codemirror_mode": {
    "name": "ipython",
    "version": 3
   },
   "file_extension": ".py",
   "mimetype": "text/x-python",
   "name": "python",
   "nbconvert_exporter": "python",
   "pygments_lexer": "ipython3",
   "version": "3.7.6-final"
  },
  "orig_nbformat": 2,
  "kernelspec": {
   "name": "python3",
   "display_name": "Python 3"
  }
 },
 "nbformat": 4,
 "nbformat_minor": 2
}